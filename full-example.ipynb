{
 "cells": [
  {
   "cell_type": "markdown",
   "metadata": {},
   "source": [
    "# Example of using ioh-explainer"
   ]
  },
  {
   "cell_type": "markdown",
   "metadata": {},
   "source": [
    "First we need to define the configuration space of an algorithm. We take a standard PSO algorithm as example."
   ]
  },
  {
   "cell_type": "code",
   "execution_count": 1,
   "metadata": {},
   "outputs": [],
   "source": [
    "from ConfigSpace import ConfigurationSpace\n",
    "from ConfigSpace.util import generate_grid\n",
    "\n",
    "cs = ConfigurationSpace({\n",
    "    \"F\": (0.05, 2.0),              # Uniform float\n",
    "    \"CR\" : (0.05, 1.0),            # Uniform float\n",
    "    \"lambda_\": (1, 20)             # Uniform int\n",
    "})\n",
    "\n",
    "steps_dict = {\n",
    "    \"F\": 20, \n",
    "    \"CR\" : 10,\n",
    "    \"lambda_\": 5\n",
    "}"
   ]
  },
  {
   "cell_type": "code",
   "execution_count": 2,
   "metadata": {},
   "outputs": [
    {
     "name": "stderr",
     "output_type": "stream",
     "text": [
      "/home/bas/repos/DeepPerformance/env/lib/python3.8/site-packages/tqdm/auto.py:21: TqdmWarning: IProgress not found. Please update jupyter and ipywidgets. See https://ipywidgets.readthedocs.io/en/stable/user_install.html\n",
      "  from .autonotebook import tqdm as notebook_tqdm\n"
     ]
    }
   ],
   "source": [
    "from ioh_explainer import explainer\n",
    "#import pyswarms as ps\n",
    "from modde import ModularDE, Parameters\n",
    "import numpy as np\n",
    "\n",
    "\n",
    "def run_de(func, config, budget, dim, *args, **kwargs):\n",
    "    item = {'F': np.array([float(config.get('F'))]), 'CR':np.array([float(config.get('CR'))]),  'lambda_' : int(config.get('lambda_'))*dim }\n",
    "    item['budget'] = int(budget)\n",
    "    c = ModularDE(func, **item)\n",
    "    try:\n",
    "        c.run()\n",
    "        return []\n",
    "    except Exception as e:\n",
    "        print(f\"Found target {func.state.current_best.y} target, but exception ({e}), so run failed\")\n",
    "        return []\n",
    "\n",
    "de_explainer = explainer(run_de, \n",
    "                 cs , \n",
    "                 optimizer_args = None,\n",
    "                 dims = [5,10],#,10,40],#, 10, 20, 40 \n",
    "                 fids = [1,5],#,5,7,13,18,20,23], #,5\n",
    "                 iids = 5, #20 \n",
    "                 reps = 5, \n",
    "                 sampling_method = \"grid\",  #or random\n",
    "                 grid_steps_dict = steps_dict,\n",
    "                 sample_size = None,  #only used with random method\n",
    "                 budget = 10000, #10000\n",
    "                 seed = 1,\n",
    "                 verbose = False)\n"
   ]
  },
  {
   "cell_type": "code",
   "execution_count": 3,
   "metadata": {},
   "outputs": [
    {
     "name": "stderr",
     "output_type": "stream",
     "text": [
      "  0%|          | 5/1000 [01:43<4:54:14, 17.74s/it]"
     ]
    }
   ],
   "source": [
    "if True:\n",
    "    de_explainer.run(paralell=False)\n",
    "    de_explainer.save_results(\"de_results.pkl\")"
   ]
  },
  {
   "cell_type": "code",
   "execution_count": null,
   "metadata": {},
   "outputs": [],
   "source": [
    "\n",
    "de_explainer.load_results(\"de_results.pkl\")\n",
    "x = de_explainer.df[(de_explainer.df['fid'] == 1) & (de_explainer.df['dim'] == 5)][[\"F\",\"CR\",\"lambda_\"]].to_numpy()\n",
    "\n",
    "y = de_explainer.df[(de_explainer.df['fid'] == 1) & (de_explainer.df['dim'] == 5)][\"auc\"].to_numpy()\n",
    "np.savetxt(\"sobol/x.csv\", x)\n",
    "np.savetxt(\"sobol/y.csv\", y)\n",
    "\n",
    "de_explainer.plot()\n"
   ]
  },
  {
   "cell_type": "code",
   "execution_count": null,
   "metadata": {},
   "outputs": [],
   "source": []
  }
 ],
 "metadata": {
  "kernelspec": {
   "display_name": "env",
   "language": "python",
   "name": "python3"
  },
  "language_info": {
   "codemirror_mode": {
    "name": "ipython",
    "version": 3
   },
   "file_extension": ".py",
   "mimetype": "text/x-python",
   "name": "python",
   "nbconvert_exporter": "python",
   "pygments_lexer": "ipython3",
   "version": "3.8.10"
  },
  "orig_nbformat": 4
 },
 "nbformat": 4,
 "nbformat_minor": 2
}
