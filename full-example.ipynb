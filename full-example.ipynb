{
 "cells": [
  {
   "cell_type": "markdown",
   "metadata": {},
   "source": [
    "# Example of using ioh-explainer"
   ]
  },
  {
   "cell_type": "markdown",
   "metadata": {},
   "source": [
    "First we need to define the configuration space of an algorithm. We take a standard PSO algorithm as example."
   ]
  },
  {
   "cell_type": "code",
   "execution_count": 1,
   "metadata": {},
   "outputs": [
    {
     "name": "stdout",
     "output_type": "stream",
     "text": [
      "Using TensorFlow backend\n"
     ]
    },
    {
     "name": "stderr",
     "output_type": "stream",
     "text": [
      "2023-08-03 18:30:37.363341: I tensorflow/core/platform/cpu_feature_guard.cc:182] This TensorFlow binary is optimized to use available CPU instructions in performance-critical operations.\n",
      "To enable the following instructions: AVX2 AVX512F FMA, in other operations, rebuild TensorFlow with the appropriate compiler flags.\n",
      "2023-08-03 18:30:38.543754: W tensorflow/compiler/tf2tensorrt/utils/py_utils.cc:38] TF-TRT Warning: Could not find TensorRT\n"
     ]
    }
   ],
   "source": [
    "import sys\n",
    "if not sys.warnoptions:\n",
    "    import warnings\n",
    "    warnings.simplefilter(\"ignore\")\n",
    "\n",
    "from ioh_xplainer import explainer\n",
    "#import pyswarms as ps\n",
    "from modde import ModularDE, Parameters\n",
    "import numpy as np\n",
    "from ConfigSpace import ConfigurationSpace\n",
    "from ConfigSpace.util import generate_grid\n",
    "import os\n",
    "os.environ[\"CUDA_VISIBLE_DEVICES\"] = \"-1\"\n",
    "import autokeras as ak\n",
    "\n",
    "cs = ConfigurationSpace({\n",
    "    \"F\": (0.05, 2.0),              # Uniform float\n",
    "    \"CR\" : (0.05, 1.0),            # Uniform float\n",
    "    \"lambda_\": (1, 20)             # Uniform int\n",
    "})\n",
    "\n",
    "steps_dict = {\n",
    "    \"F\": 20, \n",
    "    \"CR\" : 20,\n",
    "    \"lambda_\": 10\n",
    "}\n",
    "\n",
    "def run_de(func, config, budget, dim, *args, **kwargs):\n",
    "    item = {'F': np.array([float(config.get('F'))]), 'CR':np.array([float(config.get('CR'))]),  'lambda_' : int(config.get('lambda_'))*dim }\n",
    "    item['budget'] = int(budget)\n",
    "    c = ModularDE(func, **item)\n",
    "    try:\n",
    "        c.run()\n",
    "        return []\n",
    "    except Exception as e:\n",
    "        print(f\"Found target {func.state.current_best.y} target, but exception ({e}), so run failed\")\n",
    "        return []\n",
    "\n",
    "de_explainer = explainer(run_de, \n",
    "                 cs , \n",
    "                 dims = [5,10,20],#,10,40],#, 10, 20, 40 \n",
    "                 fids = [1,5,7,13,18,20,23], #,5\n",
    "                 iids = 5, #20 \n",
    "                 reps = 5, \n",
    "                 sampling_method = \"grid\",  #or random\n",
    "                 grid_steps_dict = steps_dict,\n",
    "                 sample_size = None,  #only used with random method\n",
    "                 budget = 10000, #10000\n",
    "                 seed = 1,\n",
    "                 verbose = True)"
   ]
  },
  {
   "cell_type": "code",
   "execution_count": 2,
   "metadata": {},
   "outputs": [],
   "source": [
    "if False:\n",
    "    de_explainer.run(paralell=True)\n",
    "    #de_explainer.save_results(\"de_results.pkl\")"
   ]
  },
  {
   "cell_type": "code",
   "execution_count": 3,
   "metadata": {},
   "outputs": [
    {
     "name": "stdout",
     "output_type": "stream",
     "text": [
      "Evaluating 4000 configurations.\n"
     ]
    }
   ],
   "source": [
    "de_explainer.load_results(\"de_results.pkl\")\n",
    "de_explainer._create_grid()\n",
    "\n",
    "x = de_explainer.df[(de_explainer.df['fid'] == 1) & (de_explainer.df['dim'] == 5)][[\"F\",\"CR\",\"lambda_\"]].to_numpy()\n",
    "\n",
    "#y = de_explainer.df[(de_explainer.df['fid'] == 1) & (de_explainer.df['dim'] == 5)][\"auc\"].to_numpy()\n",
    "#np.savetxt(\"sobol/x.csv\", x)\n",
    "#np.savetxt(\"sobol/y.csv\", y)\n",
    "\n",
    "#de_explainer.plot(partial_dependence=False, best_config=False)\n"
   ]
  },
  {
   "cell_type": "code",
   "execution_count": 4,
   "metadata": {},
   "outputs": [
    {
     "name": "stdout",
     "output_type": "stream",
     "text": [
      "             d=5                                                           \\\n",
      "        Function        single-best           avg-best                avg   \n",
      "0         Sphere  7228.42 (3117.22)  7421.97 (3224.87)  7616.98 (2978.30)   \n",
      "1    LinearSlope   3560.97 (339.21)   3560.97 (339.21)  8815.62 (2012.77)   \n",
      "2  StepEllipsoid   3528.80 (196.81)  3915.63 (1294.94)  4950.28 (1952.10)   \n",
      "3     SharpRidge   3165.82 (127.76)   3165.82 (127.76)  4827.10 (2198.16)   \n",
      "4  Schaffers1000   3904.31 (505.93)  4817.97 (2321.06)  5144.79 (2150.92)   \n",
      "5       Schwefel    2229.93 (29.76)  3178.48 (2059.04)  4523.10 (2366.16)   \n",
      "6       Katsuura  6388.20 (3018.33)  6503.68 (2933.37)  6436.83 (2923.82)   \n",
      "\n",
      "            d=10                                                           \\\n",
      "        Function        single-best           avg-best                avg   \n",
      "0         Sphere  5514.11 (2325.37)  6219.68 (2652.49)  7145.22 (2993.14)   \n",
      "1    LinearSlope   3437.49 (250.99)   3756.54 (754.59)  7280.22 (2159.06)   \n",
      "2  StepEllipsoid    3162.96 (44.16)    3354.40 (51.17)  3836.27 (1218.26)   \n",
      "3     SharpRidge    2951.72 (48.82)    3002.54 (60.11)  3607.21 (1315.64)   \n",
      "4  Schaffers1000   3652.87 (161.23)   3774.38 (276.65)  4486.24 (1612.64)   \n",
      "5       Schwefel     1823.91 (4.72)    1961.81 (10.54)  3399.19 (1980.12)   \n",
      "6       Katsuura  6405.37 (3005.27)  6406.20 (3004.64)  6416.18 (2937.10)   \n",
      "\n",
      "            d=20                                                           \n",
      "        Function        single-best           avg-best                avg  \n",
      "0         Sphere   3547.48 (335.70)   3547.48 (335.70)  5564.28 (2480.59)  \n",
      "1    LinearSlope   3315.76 (158.23)   3323.96 (164.53)  4412.92 (1856.82)  \n",
      "2  StepEllipsoid    2878.39 (31.84)    2890.86 (40.73)   3189.91 (559.49)  \n",
      "3     SharpRidge    2790.80 (30.45)    2790.91 (31.63)   3049.77 (652.88)  \n",
      "4  Schaffers1000   3501.71 (158.15)   3501.78 (156.90)   3912.79 (932.50)  \n",
      "5       Schwefel     1574.44 (3.22)     1582.41 (2.98)  2332.85 (1214.39)  \n",
      "6       Katsuura  6407.91 (3003.35)  6408.57 (3002.86)  6410.24 (2941.05)  \n"
     ]
    }
   ],
   "source": [
    "print(de_explainer.performance_stats())"
   ]
  },
  {
   "cell_type": "code",
   "execution_count": 5,
   "metadata": {},
   "outputs": [
    {
     "ename": "AttributeError",
     "evalue": "'tuple' object has no attribute 'style'",
     "output_type": "error",
     "traceback": [
      "\u001b[0;31m---------------------------------------------------------------------------\u001b[0m",
      "\u001b[0;31mAttributeError\u001b[0m                            Traceback (most recent call last)",
      "Cell \u001b[0;32mIn[5], line 8\u001b[0m\n\u001b[1;32m      6\u001b[0m dfs \u001b[39m=\u001b[39m de_explainer\u001b[39m.\u001b[39mbehaviour_stats(per_fid\u001b[39m=\u001b[39m\u001b[39mTrue\u001b[39;00m)\n\u001b[1;32m      7\u001b[0m \u001b[39mfor\u001b[39;00m df \u001b[39min\u001b[39;00m dfs:\n\u001b[0;32m----> 8\u001b[0m     display(df\u001b[39m.\u001b[39;49mstyle\u001b[39m.\u001b[39mbar(cmap\u001b[39m=\u001b[39m\u001b[39m'\u001b[39m\u001b[39mviridis\u001b[39m\u001b[39m'\u001b[39m))\n",
      "\u001b[0;31mAttributeError\u001b[0m: 'tuple' object has no attribute 'style'"
     ]
    }
   ],
   "source": [
    "from IPython.display import display\n",
    "#df = de_explainer.behaviour_stats()\n",
    "#df.style.bar(cmap='viridis')\n",
    "\n",
    "#do it for f1 and f5\n",
    "df = de_explainer.behaviour_stats(per_fid=True)\n",
    "display(df.style.bar(cmap='viridis'))"
   ]
  }
 ],
 "metadata": {
  "kernelspec": {
   "display_name": "iohenv",
   "language": "python",
   "name": "iohenv"
  },
  "language_info": {
   "codemirror_mode": {
    "name": "ipython",
    "version": 3
   },
   "file_extension": ".py",
   "mimetype": "text/x-python",
   "name": "python",
   "nbconvert_exporter": "python",
   "pygments_lexer": "ipython3",
   "version": "3.8.12"
  },
  "orig_nbformat": 4
 },
 "nbformat": 4,
 "nbformat_minor": 2
}
