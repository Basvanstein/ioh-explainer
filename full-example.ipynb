{
 "cells": [
  {
   "cell_type": "markdown",
   "metadata": {},
   "source": [
    "# Example of using ioh-explainer"
   ]
  },
  {
   "cell_type": "markdown",
   "metadata": {},
   "source": [
    "First we need to define the configuration space of an algorithm. We take a standard PSO algorithm as example."
   ]
  },
  {
   "cell_type": "code",
   "execution_count": null,
   "metadata": {},
   "outputs": [],
   "source": [
    "from ConfigSpace import ConfigurationSpace\n",
    "from ConfigSpace.util import generate_grid\n",
    "\n",
    "cs = ConfigurationSpace({\n",
    "    \"F\": (0.05, 2.0),              # Uniform float\n",
    "    \"CR\" : (0.05, 2.0),                    # Uniform float\n",
    "})"
   ]
  },
  {
   "cell_type": "code",
   "execution_count": null,
   "metadata": {},
   "outputs": [],
   "source": [
    "from .ioh-explainer import explainer\n",
    "import pyswarms as ps\n",
    "from modde import ModularDE, Parameters\n",
    "\n",
    "print(explainer)\n",
    "\n",
    "def run_de(func, config, *args, **kwargs):\n",
    "    c = ModularDE(func, **config)\n",
    "    # c.parameters.target = func.f.objective.y\n",
    "\n",
    "    try:\n",
    "        c.run()\n",
    "        if verbose:\n",
    "            print(f\"At target: {func.state.evaluations} used, target_hit={func.state.current_best.y})\")\n",
    "        return []\n",
    "    except Exception as e:\n",
    "        if verbose:\n",
    "            print(f\"Found target {func.state.current_best.y} target, but exception ({e}), so run failed\")\n",
    "        return []\n",
    "\n",
    "de_explainer = explainer(run_de, \n",
    "                 cs , \n",
    "                 optimizer_args = None,\n",
    "                 dims = [5],#, 10, 20, 40 \n",
    "                 fids = [1], #,5\n",
    "                 iids = 1, #20 \n",
    "                 reps = 5, \n",
    "                 sampling_method = \"grid\",  #or random\n",
    "                 grid_steps = 20,\n",
    "                 sample_size = None,  #only used with random method\n",
    "                 budget = 100, #10000\n",
    "                 seed = 1,\n",
    "                 verbose = False)"
   ]
  }
 ],
 "metadata": {
  "language_info": {
   "name": "python"
  },
  "orig_nbformat": 4
 },
 "nbformat": 4,
 "nbformat_minor": 2
}
