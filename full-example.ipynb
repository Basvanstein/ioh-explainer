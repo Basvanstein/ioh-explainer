{
 "cells": [
  {
   "cell_type": "markdown",
   "metadata": {},
   "source": [
    "# Example of using ioh-explainer"
   ]
  },
  {
   "cell_type": "markdown",
   "metadata": {},
   "source": [
    "First we need to define the configuration space of an algorithm. We take a standard PSO algorithm as example."
   ]
  },
  {
   "cell_type": "code",
   "execution_count": 1,
   "metadata": {},
   "outputs": [
    {
     "name": "stdout",
     "output_type": "stream",
     "text": [
      "Using TensorFlow backend\n"
     ]
    },
    {
     "name": "stderr",
     "output_type": "stream",
     "text": [
      "2023-08-03 12:18:11.292004: I tensorflow/core/platform/cpu_feature_guard.cc:182] This TensorFlow binary is optimized to use available CPU instructions in performance-critical operations.\n",
      "To enable the following instructions: AVX2 AVX512F FMA, in other operations, rebuild TensorFlow with the appropriate compiler flags.\n",
      "2023-08-03 12:18:12.516645: W tensorflow/compiler/tf2tensorrt/utils/py_utils.cc:38] TF-TRT Warning: Could not find TensorRT\n"
     ]
    }
   ],
   "source": [
    "import sys\n",
    "if not sys.warnoptions:\n",
    "    import warnings\n",
    "    warnings.simplefilter(\"ignore\")\n",
    "\n",
    "from ioh_xplainer import explainer\n",
    "#import pyswarms as ps\n",
    "from modde import ModularDE, Parameters\n",
    "import numpy as np\n",
    "from ConfigSpace import ConfigurationSpace\n",
    "from ConfigSpace.util import generate_grid\n",
    "import os\n",
    "os.environ[\"CUDA_VISIBLE_DEVICES\"] = \"-1\"\n",
    "import autokeras as ak\n",
    "\n",
    "cs = ConfigurationSpace({\n",
    "    \"F\": (0.05, 2.0),              # Uniform float\n",
    "    \"CR\" : (0.05, 1.0),            # Uniform float\n",
    "    \"lambda_\": (1, 20)             # Uniform int\n",
    "})\n",
    "\n",
    "steps_dict = {\n",
    "    \"F\": 20, \n",
    "    \"CR\" : 20,\n",
    "    \"lambda_\": 10\n",
    "}\n",
    "\n",
    "def run_de(func, config, budget, dim, *args, **kwargs):\n",
    "    item = {'F': np.array([float(config.get('F'))]), 'CR':np.array([float(config.get('CR'))]),  'lambda_' : int(config.get('lambda_'))*dim }\n",
    "    item['budget'] = int(budget)\n",
    "    c = ModularDE(func, **item)\n",
    "    try:\n",
    "        c.run()\n",
    "        return []\n",
    "    except Exception as e:\n",
    "        print(f\"Found target {func.state.current_best.y} target, but exception ({e}), so run failed\")\n",
    "        return []\n",
    "\n",
    "de_explainer = explainer(run_de, \n",
    "                 cs , \n",
    "                 dims = [5,10,20],#,10,40],#, 10, 20, 40 \n",
    "                 fids = [1,5,7,13,18,20,23], #,5\n",
    "                 iids = 5, #20 \n",
    "                 reps = 5, \n",
    "                 sampling_method = \"grid\",  #or random\n",
    "                 grid_steps_dict = steps_dict,\n",
    "                 sample_size = None,  #only used with random method\n",
    "                 budget = 10000, #10000\n",
    "                 seed = 1,\n",
    "                 verbose = True)"
   ]
  },
  {
   "cell_type": "code",
   "execution_count": 2,
   "metadata": {},
   "outputs": [],
   "source": [
    "if False:\n",
    "    de_explainer.run(paralell=True)\n",
    "    #de_explainer.save_results(\"de_results.pkl\")"
   ]
  },
  {
   "cell_type": "code",
   "execution_count": 3,
   "metadata": {},
   "outputs": [
    {
     "name": "stdout",
     "output_type": "stream",
     "text": [
      "Evaluating 4000 configurations.\n"
     ]
    }
   ],
   "source": [
    "de_explainer.load_results(\"de_results.pkl\")\n",
    "de_explainer._create_grid()\n",
    "\n",
    "x = de_explainer.df[(de_explainer.df['fid'] == 1) & (de_explainer.df['dim'] == 5)][[\"F\",\"CR\",\"lambda_\"]].to_numpy()\n",
    "\n",
    "#y = de_explainer.df[(de_explainer.df['fid'] == 1) & (de_explainer.df['dim'] == 5)][\"auc\"].to_numpy()\n",
    "#np.savetxt(\"sobol/x.csv\", x)\n",
    "#np.savetxt(\"sobol/y.csv\", y)\n",
    "\n",
    "#de_explainer.plot(partial_dependence=False, best_config=False)\n"
   ]
  },
  {
   "cell_type": "code",
   "execution_count": 4,
   "metadata": {},
   "outputs": [
    {
     "name": "stdout",
     "output_type": "stream",
     "text": [
      "             d=5                                               \\\n",
      "        Function           single-best               avg-best   \n",
      "0         Sphere  7228.42 (9717088.00)  7421.97 (10399794.84)   \n",
      "1    LinearSlope   3560.97 (115063.22)    3560.97 (115063.22)   \n",
      "2  StepEllipsoid    3528.80 (38734.02)   3915.63 (1676877.40)   \n",
      "3     SharpRidge    3165.82 (16321.60)     3165.82 (16321.60)   \n",
      "4  Schaffers1000   3904.31 (255960.14)   4817.97 (5387299.22)   \n",
      "5       Schwefel      2229.93 (885.94)   3178.48 (4239646.07)   \n",
      "6       Katsuura  6388.20 (9110326.67)   6503.68 (8604636.85)   \n",
      "\n",
      "                                  d=10                        \\\n",
      "                    avg       Function           single-best   \n",
      "0  7616.98 (8870262.14)         Sphere  5514.11 (5407340.08)   \n",
      "1  8815.62 (4051237.21)    LinearSlope    3437.49 (62995.67)   \n",
      "2  4950.28 (3810684.64)  StepEllipsoid     3162.96 (1950.20)   \n",
      "3  4827.10 (4831908.71)     SharpRidge     2951.72 (2383.44)   \n",
      "4  5144.79 (4626474.37)  Schaffers1000    3652.87 (25995.07)   \n",
      "5  4523.10 (5598694.09)       Schwefel       1823.91 (22.24)   \n",
      "6  6436.83 (8548732.47)       Katsuura  6405.37 (9031640.09)   \n",
      "\n",
      "                                                        d=20  \\\n",
      "               avg-best                   avg       Function   \n",
      "0  6219.68 (7035712.01)  7145.22 (8958895.30)         Sphere   \n",
      "1   3756.54 (569400.24)  7280.22 (4661539.91)    LinearSlope   \n",
      "2     3354.40 (2618.87)  3836.27 (1484159.86)  StepEllipsoid   \n",
      "3     3002.54 (3613.61)  3607.21 (1730902.47)     SharpRidge   \n",
      "4    3774.38 (76534.61)  4486.24 (2600592.65)  Schaffers1000   \n",
      "5      1961.81 (111.09)  3399.19 (3920881.07)       Schwefel   \n",
      "6  6406.20 (9027871.28)  6416.18 (8626557.68)       Katsuura   \n",
      "\n",
      "                                                                     \n",
      "            single-best              avg-best                   avg  \n",
      "0   3547.48 (112691.22)   3547.48 (112691.22)  5564.28 (6153333.45)  \n",
      "1    3315.76 (25037.88)    3323.96 (27071.34)  4412.92 (3447781.58)  \n",
      "2     2878.39 (1014.00)     2890.86 (1659.30)   3189.91 (313030.34)  \n",
      "3      2790.80 (927.17)     2790.91 (1000.48)   3049.77 (426248.05)  \n",
      "4    3501.71 (25010.98)    3501.78 (24616.57)   3912.79 (869564.49)  \n",
      "5       1574.44 (10.37)        1582.41 (8.85)  2332.85 (1474749.54)  \n",
      "6  6407.91 (9020110.75)  6408.57 (9017140.21)  6410.24 (8649748.50)  \n"
     ]
    }
   ],
   "source": [
    "print(de_explainer.performance_stats())"
   ]
  },
  {
   "cell_type": "code",
   "execution_count": 5,
   "metadata": {},
   "outputs": [
    {
     "name": "stdout",
     "output_type": "stream",
     "text": [
      "<pandas.io.formats.style.Styler object at 0x7f5749d7e340>\n",
      "<pandas.io.formats.style.Styler object at 0x7f5749d7e340>\n"
     ]
    }
   ],
   "source": [
    "df = de_explainer.behaviour_stats()\n",
    "df.style.bar(cmap='viridis')\n",
    "\n",
    "#do it for f1 and f5\n",
    "df = de_explainer.behaviour_stats(fids=[1,5])\n",
    "df.style.bar(cmap='viridis')"
   ]
  }
 ],
 "metadata": {
  "kernelspec": {
   "display_name": "env",
   "language": "python",
   "name": "python3"
  },
  "language_info": {
   "codemirror_mode": {
    "name": "ipython",
    "version": 3
   },
   "file_extension": ".py",
   "mimetype": "text/x-python",
   "name": "python",
   "nbconvert_exporter": "python",
   "pygments_lexer": "ipython3",
   "version": "3.8.12"
  },
  "orig_nbformat": 4
 },
 "nbformat": 4,
 "nbformat_minor": 2
}
