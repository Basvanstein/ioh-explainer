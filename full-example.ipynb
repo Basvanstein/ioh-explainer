{
 "cells": [
  {
   "cell_type": "markdown",
   "metadata": {},
   "source": [
    "# Example of using ioh-explainer"
   ]
  },
  {
   "cell_type": "markdown",
   "metadata": {},
   "source": [
    "First we need to define the configuration space of an algorithm. We take a standard PSO algorithm as example."
   ]
  },
  {
   "cell_type": "code",
   "execution_count": null,
   "metadata": {
    "vscode": {
     "languageId": "plaintext"
    }
   },
   "outputs": [],
   "source": [
    "from ConfigSpace import ConfigurationSpace\n",
    "from ConfigSpace.util import generate_grid\n",
    "\n",
    "cs = ConfigurationSpace({\n",
    "    \"n_particles\": (1, 100),              # Uniform Integer\n",
    "    \"c1\" : (0.0, 1.0),                    # Uniform float\n",
    "    \"c2\" : (0.0, 1.0),                    # Uniform float\n",
    "    \"w\" : (0.0, 1.0),                     # Uniform float\n",
    "})"
   ]
  },
  {
   "cell_type": "code",
   "execution_count": null,
   "metadata": {
    "vscode": {
     "languageId": "plaintext"
    }
   },
   "outputs": [],
   "source": [
    "import pyswarms as ps\n",
    "\n",
    "\n",
    "#generate a grid with steps \n",
    "ConfigurationGrid = generate_grid(cs, 20)\n",
    "print(len(ConfigurationGrid))\n",
    "\n",
    "#run all the optimizations\n",
    "for cs in ConfigurationGrid:\n",
    "    # Set-up hyperparameters\n",
    "    options = {'c1': 0.5, 'c2': 0.3, 'w':0.9}\n",
    "    # Call instance of PSO\n",
    "    optimizer = ps.single.GlobalBestPSO(n_particles=10, dimensions=2, options=options)\n",
    "\n",
    "    # Perform optimization\n",
    "    best_cost, best_pos = optimizer.optimize(fx.sphere, iters=100)"
   ]
  }
 ],
 "metadata": {
  "language_info": {
   "name": "python"
  },
  "orig_nbformat": 4
 },
 "nbformat": 4,
 "nbformat_minor": 2
}
