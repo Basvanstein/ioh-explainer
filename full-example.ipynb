{
 "cells": [
  {
   "cell_type": "markdown",
   "metadata": {},
   "source": [
    "# Example of using ioh-explainer"
   ]
  },
  {
   "cell_type": "markdown",
   "metadata": {},
   "source": [
    "First we need to define the configuration space of an algorithm. We take a standard PSO algorithm as example."
   ]
  },
  {
   "cell_type": "code",
   "execution_count": 1,
   "metadata": {},
   "outputs": [],
   "source": [
    "from ConfigSpace import ConfigurationSpace\n",
    "from ConfigSpace.util import generate_grid\n",
    "\n",
    "cs = ConfigurationSpace({\n",
    "    \"F\": (0.05, 2.0),              # Uniform float\n",
    "    \"CR\" : (0.05, 2.0),                    # Uniform float\n",
    "})\n",
    "\n",
    "steps_dict = {\n",
    "    \"F\": 20, \n",
    "    \"CR\" : 20,\n",
    "}"
   ]
  },
  {
   "cell_type": "code",
   "execution_count": 2,
   "metadata": {},
   "outputs": [
    {
     "name": "stderr",
     "output_type": "stream",
     "text": [
      "Using `tqdm.autonotebook.tqdm` in notebook mode. Use `tqdm.tqdm` instead to force console mode (e.g. in jupyter console)\n"
     ]
    },
    {
     "name": "stdout",
     "output_type": "stream",
     "text": [
      "<class 'ioh_explainer.core.explainer'>\n",
      "Evaluating 400 configurations.\n"
     ]
    },
    {
     "name": "stderr",
     "output_type": "stream",
     "text": [
      "  5%|▌         | 20/400 [00:30<12:14,  1.93s/it]"
     ]
    }
   ],
   "source": [
    "from ioh_explainer.core import explainer\n",
    "import pyswarms as ps\n",
    "from modde import ModularDE, Parameters\n",
    "import numpy as np\n",
    "\n",
    "\n",
    "def run_de(func, config, budget, dim, *args, **kwargs):\n",
    "    item = {'F': np.array([float(config.get('F'))]), 'CR':np.array([float(config.get('CR'))]),  'lambda_' : 10*dim }\n",
    "    c = ModularDE(func, **item)\n",
    "    try:\n",
    "        c.run()\n",
    "        return []\n",
    "    except Exception as e:\n",
    "        print(f\"Found target {func.state.current_best.y} target, but exception ({e}), so run failed\")\n",
    "        return []\n",
    "\n",
    "de_explainer = explainer(run_de, \n",
    "                 cs , \n",
    "                 optimizer_args = None,\n",
    "                 dims = [5,10],#, 10, 20, 40 \n",
    "                 fids = [1,5], #,5\n",
    "                 iids = 10, #20 \n",
    "                 reps = 5, \n",
    "                 sampling_method = \"grid\",  #or random\n",
    "                 grid_steps_dict = steps_dict,\n",
    "                 sample_size = None,  #only used with random method\n",
    "                 budget = 10000, #10000\n",
    "                 seed = 1,\n",
    "                 verbose = True)\n",
    "de_explainer.run(paralell=True)"
   ]
  },
  {
   "cell_type": "code",
   "execution_count": null,
   "metadata": {},
   "outputs": [
    {
     "name": "stdout",
     "output_type": "stream",
     "text": [
      "[inf inf inf ... inf inf inf]\n"
     ]
    },
    {
     "ename": "XGBoostError",
     "evalue": "[13:42:37] ../src/data/data.cc:461: Check failed: valid: Label contains NaN, infinity or a value too large.\nStack trace:\n  [bt] (0) /home/neocortex/repos/ioh-explainer/env/lib/python3.8/site-packages/xgboost/lib/libxgboost.so(+0x20b1e3) [0x7fb59f8a61e3]\n  [bt] (1) /home/neocortex/repos/ioh-explainer/env/lib/python3.8/site-packages/xgboost/lib/libxgboost.so(+0x218125) [0x7fb59f8b3125]\n  [bt] (2) /home/neocortex/repos/ioh-explainer/env/lib/python3.8/site-packages/xgboost/lib/libxgboost.so(+0x219660) [0x7fb59f8b4660]\n  [bt] (3) /home/neocortex/repos/ioh-explainer/env/lib/python3.8/site-packages/xgboost/lib/libxgboost.so(XGDMatrixSetInfoFromInterface+0xad) [0x7fb59f7d5eed]\n  [bt] (4) /usr/lib/x86_64-linux-gnu/libffi.so.6(ffi_call_unix64+0x4c) [0x7fb722927dae]\n  [bt] (5) /usr/lib/x86_64-linux-gnu/libffi.so.6(ffi_call+0x22f) [0x7fb72292771f]\n  [bt] (6) /usr/lib/python3.8/lib-dynload/_ctypes.cpython-38-x86_64-linux-gnu.so(_ctypes_callproc+0x7ff) [0x7fb722b3d8ef]\n  [bt] (7) /usr/lib/python3.8/lib-dynload/_ctypes.cpython-38-x86_64-linux-gnu.so(+0x8764) [0x7fb722b32764]\n  [bt] (8) /home/neocortex/repos/ioh-explainer/env/bin/python3.8(_PyObject_MakeTpCall+0x79) [0x4f9e19]\n\n",
     "output_type": "error",
     "traceback": [
      "\u001b[0;31m---------------------------------------------------------------------------\u001b[0m",
      "\u001b[0;31mXGBoostError\u001b[0m                              Traceback (most recent call last)",
      "Cell \u001b[0;32mIn[9], line 13\u001b[0m\n\u001b[1;32m     10\u001b[0m \u001b[39mprint\u001b[39m(y)\n\u001b[1;32m     12\u001b[0m \u001b[39m# train xgboost model on diabetes data:\u001b[39;00m\n\u001b[0;32m---> 13\u001b[0m bst \u001b[39m=\u001b[39m xgboost\u001b[39m.\u001b[39mtrain({\u001b[39m\"\u001b[39m\u001b[39mlearning_rate\u001b[39m\u001b[39m\"\u001b[39m: \u001b[39m0.01\u001b[39m}, xgboost\u001b[39m.\u001b[39;49mDMatrix(X, label\u001b[39m=\u001b[39;49my), \u001b[39m100\u001b[39m)\n\u001b[1;32m     15\u001b[0m \u001b[39m# explain the model's prediction using SHAP values on the first 1000 training data samples\u001b[39;00m\n\u001b[1;32m     16\u001b[0m shap_values \u001b[39m=\u001b[39m shap\u001b[39m.\u001b[39mTreeExplainer(bst)\u001b[39m.\u001b[39mshap_values(X)\n",
      "File \u001b[0;32m~/repos/ioh-explainer/env/lib/python3.8/site-packages/xgboost/core.py:620\u001b[0m, in \u001b[0;36mrequire_keyword_args.<locals>.throw_if.<locals>.inner_f\u001b[0;34m(*args, **kwargs)\u001b[0m\n\u001b[1;32m    618\u001b[0m \u001b[39mfor\u001b[39;00m k, arg \u001b[39min\u001b[39;00m \u001b[39mzip\u001b[39m(sig\u001b[39m.\u001b[39mparameters, args):\n\u001b[1;32m    619\u001b[0m     kwargs[k] \u001b[39m=\u001b[39m arg\n\u001b[0;32m--> 620\u001b[0m \u001b[39mreturn\u001b[39;00m func(\u001b[39m*\u001b[39;49m\u001b[39m*\u001b[39;49mkwargs)\n",
      "File \u001b[0;32m~/repos/ioh-explainer/env/lib/python3.8/site-packages/xgboost/core.py:754\u001b[0m, in \u001b[0;36mDMatrix.__init__\u001b[0;34m(self, data, label, weight, base_margin, missing, silent, feature_names, feature_types, nthread, group, qid, label_lower_bound, label_upper_bound, feature_weights, enable_categorical)\u001b[0m\n\u001b[1;32m    751\u001b[0m \u001b[39massert\u001b[39;00m handle \u001b[39mis\u001b[39;00m \u001b[39mnot\u001b[39;00m \u001b[39mNone\u001b[39;00m\n\u001b[1;32m    752\u001b[0m \u001b[39mself\u001b[39m\u001b[39m.\u001b[39mhandle \u001b[39m=\u001b[39m handle\n\u001b[0;32m--> 754\u001b[0m \u001b[39mself\u001b[39;49m\u001b[39m.\u001b[39;49mset_info(\n\u001b[1;32m    755\u001b[0m     label\u001b[39m=\u001b[39;49mlabel,\n\u001b[1;32m    756\u001b[0m     weight\u001b[39m=\u001b[39;49mweight,\n\u001b[1;32m    757\u001b[0m     base_margin\u001b[39m=\u001b[39;49mbase_margin,\n\u001b[1;32m    758\u001b[0m     group\u001b[39m=\u001b[39;49mgroup,\n\u001b[1;32m    759\u001b[0m     qid\u001b[39m=\u001b[39;49mqid,\n\u001b[1;32m    760\u001b[0m     label_lower_bound\u001b[39m=\u001b[39;49mlabel_lower_bound,\n\u001b[1;32m    761\u001b[0m     label_upper_bound\u001b[39m=\u001b[39;49mlabel_upper_bound,\n\u001b[1;32m    762\u001b[0m     feature_weights\u001b[39m=\u001b[39;49mfeature_weights,\n\u001b[1;32m    763\u001b[0m )\n\u001b[1;32m    765\u001b[0m \u001b[39mif\u001b[39;00m feature_names \u001b[39mis\u001b[39;00m \u001b[39mnot\u001b[39;00m \u001b[39mNone\u001b[39;00m:\n\u001b[1;32m    766\u001b[0m     \u001b[39mself\u001b[39m\u001b[39m.\u001b[39mfeature_names \u001b[39m=\u001b[39m feature_names\n",
      "File \u001b[0;32m~/repos/ioh-explainer/env/lib/python3.8/site-packages/xgboost/core.py:620\u001b[0m, in \u001b[0;36mrequire_keyword_args.<locals>.throw_if.<locals>.inner_f\u001b[0;34m(*args, **kwargs)\u001b[0m\n\u001b[1;32m    618\u001b[0m \u001b[39mfor\u001b[39;00m k, arg \u001b[39min\u001b[39;00m \u001b[39mzip\u001b[39m(sig\u001b[39m.\u001b[39mparameters, args):\n\u001b[1;32m    619\u001b[0m     kwargs[k] \u001b[39m=\u001b[39m arg\n\u001b[0;32m--> 620\u001b[0m \u001b[39mreturn\u001b[39;00m func(\u001b[39m*\u001b[39;49m\u001b[39m*\u001b[39;49mkwargs)\n",
      "File \u001b[0;32m~/repos/ioh-explainer/env/lib/python3.8/site-packages/xgboost/core.py:819\u001b[0m, in \u001b[0;36mDMatrix.set_info\u001b[0;34m(self, label, weight, base_margin, group, qid, label_lower_bound, label_upper_bound, feature_names, feature_types, feature_weights)\u001b[0m\n\u001b[1;32m    816\u001b[0m \u001b[39mfrom\u001b[39;00m \u001b[39m.\u001b[39;00m\u001b[39mdata\u001b[39;00m \u001b[39mimport\u001b[39;00m dispatch_meta_backend\n\u001b[1;32m    818\u001b[0m \u001b[39mif\u001b[39;00m label \u001b[39mis\u001b[39;00m \u001b[39mnot\u001b[39;00m \u001b[39mNone\u001b[39;00m:\n\u001b[0;32m--> 819\u001b[0m     \u001b[39mself\u001b[39;49m\u001b[39m.\u001b[39;49mset_label(label)\n\u001b[1;32m    820\u001b[0m \u001b[39mif\u001b[39;00m weight \u001b[39mis\u001b[39;00m \u001b[39mnot\u001b[39;00m \u001b[39mNone\u001b[39;00m:\n\u001b[1;32m    821\u001b[0m     \u001b[39mself\u001b[39m\u001b[39m.\u001b[39mset_weight(weight)\n",
      "File \u001b[0;32m~/repos/ioh-explainer/env/lib/python3.8/site-packages/xgboost/core.py:950\u001b[0m, in \u001b[0;36mDMatrix.set_label\u001b[0;34m(self, label)\u001b[0m\n\u001b[1;32m    942\u001b[0m \u001b[39m\u001b[39m\u001b[39m\"\"\"Set label of dmatrix\u001b[39;00m\n\u001b[1;32m    943\u001b[0m \n\u001b[1;32m    944\u001b[0m \u001b[39mParameters\u001b[39;00m\n\u001b[0;32m   (...)\u001b[0m\n\u001b[1;32m    947\u001b[0m \u001b[39m    The label information to be set into DMatrix\u001b[39;00m\n\u001b[1;32m    948\u001b[0m \u001b[39m\"\"\"\u001b[39;00m\n\u001b[1;32m    949\u001b[0m \u001b[39mfrom\u001b[39;00m \u001b[39m.\u001b[39;00m\u001b[39mdata\u001b[39;00m \u001b[39mimport\u001b[39;00m dispatch_meta_backend\n\u001b[0;32m--> 950\u001b[0m dispatch_meta_backend(\u001b[39mself\u001b[39;49m, label, \u001b[39m'\u001b[39;49m\u001b[39mlabel\u001b[39;49m\u001b[39m'\u001b[39;49m, \u001b[39m'\u001b[39;49m\u001b[39mfloat\u001b[39;49m\u001b[39m'\u001b[39;49m)\n",
      "File \u001b[0;32m~/repos/ioh-explainer/env/lib/python3.8/site-packages/xgboost/data.py:1127\u001b[0m, in \u001b[0;36mdispatch_meta_backend\u001b[0;34m(matrix, data, name, dtype)\u001b[0m\n\u001b[1;32m   1125\u001b[0m     \u001b[39mreturn\u001b[39;00m\n\u001b[1;32m   1126\u001b[0m \u001b[39mif\u001b[39;00m _is_numpy_array(data):\n\u001b[0;32m-> 1127\u001b[0m     _meta_from_numpy(data, name, dtype, handle)\n\u001b[1;32m   1128\u001b[0m     \u001b[39mreturn\u001b[39;00m\n\u001b[1;32m   1129\u001b[0m \u001b[39mif\u001b[39;00m _is_pandas_df(data):\n",
      "File \u001b[0;32m~/repos/ioh-explainer/env/lib/python3.8/site-packages/xgboost/data.py:1050\u001b[0m, in \u001b[0;36m_meta_from_numpy\u001b[0;34m(data, field, dtype, handle)\u001b[0m\n\u001b[1;32m   1048\u001b[0m     \u001b[39mraise\u001b[39;00m \u001b[39mValueError\u001b[39;00m(\u001b[39m\"\u001b[39m\u001b[39mMasked array is not supported.\u001b[39m\u001b[39m\"\u001b[39m)\n\u001b[1;32m   1049\u001b[0m interface_str \u001b[39m=\u001b[39m _array_interface(data)\n\u001b[0;32m-> 1050\u001b[0m _check_call(_LIB\u001b[39m.\u001b[39;49mXGDMatrixSetInfoFromInterface(handle, c_str(field), interface_str))\n",
      "File \u001b[0;32m~/repos/ioh-explainer/env/lib/python3.8/site-packages/xgboost/core.py:279\u001b[0m, in \u001b[0;36m_check_call\u001b[0;34m(ret)\u001b[0m\n\u001b[1;32m    268\u001b[0m \u001b[39m\u001b[39m\u001b[39m\"\"\"Check the return value of C API call\u001b[39;00m\n\u001b[1;32m    269\u001b[0m \n\u001b[1;32m    270\u001b[0m \u001b[39mThis function will raise exception when error occurs.\u001b[39;00m\n\u001b[0;32m   (...)\u001b[0m\n\u001b[1;32m    276\u001b[0m \u001b[39m    return value from API calls\u001b[39;00m\n\u001b[1;32m    277\u001b[0m \u001b[39m\"\"\"\u001b[39;00m\n\u001b[1;32m    278\u001b[0m \u001b[39mif\u001b[39;00m ret \u001b[39m!=\u001b[39m \u001b[39m0\u001b[39m:\n\u001b[0;32m--> 279\u001b[0m     \u001b[39mraise\u001b[39;00m XGBoostError(py_str(_LIB\u001b[39m.\u001b[39mXGBGetLastError()))\n",
      "\u001b[0;31mXGBoostError\u001b[0m: [13:42:37] ../src/data/data.cc:461: Check failed: valid: Label contains NaN, infinity or a value too large.\nStack trace:\n  [bt] (0) /home/neocortex/repos/ioh-explainer/env/lib/python3.8/site-packages/xgboost/lib/libxgboost.so(+0x20b1e3) [0x7fb59f8a61e3]\n  [bt] (1) /home/neocortex/repos/ioh-explainer/env/lib/python3.8/site-packages/xgboost/lib/libxgboost.so(+0x218125) [0x7fb59f8b3125]\n  [bt] (2) /home/neocortex/repos/ioh-explainer/env/lib/python3.8/site-packages/xgboost/lib/libxgboost.so(+0x219660) [0x7fb59f8b4660]\n  [bt] (3) /home/neocortex/repos/ioh-explainer/env/lib/python3.8/site-packages/xgboost/lib/libxgboost.so(XGDMatrixSetInfoFromInterface+0xad) [0x7fb59f7d5eed]\n  [bt] (4) /usr/lib/x86_64-linux-gnu/libffi.so.6(ffi_call_unix64+0x4c) [0x7fb722927dae]\n  [bt] (5) /usr/lib/x86_64-linux-gnu/libffi.so.6(ffi_call+0x22f) [0x7fb72292771f]\n  [bt] (6) /usr/lib/python3.8/lib-dynload/_ctypes.cpython-38-x86_64-linux-gnu.so(_ctypes_callproc+0x7ff) [0x7fb722b3d8ef]\n  [bt] (7) /usr/lib/python3.8/lib-dynload/_ctypes.cpython-38-x86_64-linux-gnu.so(+0x8764) [0x7fb722b32764]\n  [bt] (8) /home/neocortex/repos/ioh-explainer/env/bin/python3.8(_PyObject_MakeTpCall+0x79) [0x4f9e19]\n\n"
     ]
    }
   ],
   "source": [
    "\n",
    "de_explainer.plot()\n"
   ]
  },
  {
   "cell_type": "code",
   "execution_count": null,
   "metadata": {},
   "outputs": [],
   "source": [
    "import xgboost\n",
    "import shap\n",
    "df = de_explainer.df\n",
    "df = df.rename(columns={\"iid\": \"Instance variance\", \"seed\": \"Stochastic variance\"})\n",
    "for fid in de_explainer.fids:\n",
    "    for dim in de_explainer.dims:\n",
    "        subdf = df[(df['fid'] == fid) & (df['dim'] == dim)]\n",
    "        X = subdf[[*de_explainer.config_space.keys(), 'Instance variance', 'Stochastic variance']]\n",
    "        y = subdf['auc'].values\n",
    "        print(y)\n",
    "            \n",
    "        # train xgboost model on diabetes data:\n",
    "        bst = xgboost.train({\"learning_rate\": 0.01}, xgboost.DMatrix(X, label=y), 100)\n",
    "\n",
    "        # explain the model's prediction using SHAP values on the first 1000 training data samples\n",
    "        shap_values = shap.TreeExplainer(bst).shap_values(X)\n",
    "        shap.summary_plot(shap_values, X)"
   ]
  }
 ],
 "metadata": {
  "kernelspec": {
   "display_name": "env",
   "language": "python",
   "name": "python3"
  },
  "language_info": {
   "codemirror_mode": {
    "name": "ipython",
    "version": 3
   },
   "file_extension": ".py",
   "mimetype": "text/x-python",
   "name": "python",
   "nbconvert_exporter": "python",
   "pygments_lexer": "ipython3",
   "version": "3.8.12"
  },
  "orig_nbformat": 4
 },
 "nbformat": 4,
 "nbformat_minor": 2
}
