{
 "cells": [
  {
   "cell_type": "markdown",
   "metadata": {},
   "source": [
    "# Example of using ioh-explainer"
   ]
  },
  {
   "cell_type": "markdown",
   "metadata": {},
   "source": [
    "First we need to define the configuration space of an algorithm. We take a standard PSO algorithm as example."
   ]
  },
  {
   "cell_type": "code",
   "execution_count": 3,
   "metadata": {},
   "outputs": [],
   "source": [
    "from ConfigSpace import ConfigurationSpace\n",
    "from ConfigSpace.util import generate_grid\n",
    "\n",
    "cs = ConfigurationSpace({\n",
    "    \"F\": (0.05, 2.0),              # Uniform float\n",
    "    \"CR\" : (0.05, 2.0),                    # Uniform float\n",
    "})\n",
    "\n",
    "steps_dict = {\n",
    "    \"F\": 20, \n",
    "    \"CR\" : 20,\n",
    "}"
   ]
  },
  {
   "cell_type": "code",
   "execution_count": 4,
   "metadata": {},
   "outputs": [
    {
     "ename": "SyntaxError",
     "evalue": "invalid syntax (921446920.py, line 20)",
     "output_type": "error",
     "traceback": [
      "\u001b[0;36m  Cell \u001b[0;32mIn[4], line 20\u001b[0;36m\u001b[0m\n\u001b[0;31m    ,\u001b[0m\n\u001b[0m    ^\u001b[0m\n\u001b[0;31mSyntaxError\u001b[0m\u001b[0;31m:\u001b[0m invalid syntax\n"
     ]
    }
   ],
   "source": [
    "from ioh_explainer.core import explainer\n",
    "import pyswarms as ps\n",
    "from modde import ModularDE, Parameters\n",
    "import numpy as np\n",
    "\n",
    "print(explainer)\n",
    "\n",
    "def run_de(func, config, budget, dim, *args, **kwargs):\n",
    "    item = {'F': np.array([float(config.get('F'))]), 'CR':np.array([float(config.get('CR'))]),  'lambda_' : 10*dim }\n",
    "    c = ModularDE(func, **item)\n",
    "    try:\n",
    "        c.run()\n",
    "        return []\n",
    "    except Exception as e:\n",
    "        print(f\"Found target {func.state.current_best.y} target, but exception ({e}), so run failed\")\n",
    "        return []\n",
    "\n",
    "de_explainer = explainer(run_de, \n",
    "                 cs , \n",
    "                 optimizer_args = None,\n",
    "                 dims = [5],#, 10, 20, 40 \n",
    "                 fids = [1], #,5\n",
    "                 iids = 1, #20 \n",
    "                 reps = 1, \n",
    "                 sampling_method = \"grid\",  #or random\n",
    "                 grid_steps_dict = steps_dict,\n",
    "                 sample_size = None,  #only used with random method\n",
    "                 budget = 10000, #10000\n",
    "                 seed = 1,\n",
    "                 verbose = True)\n",
    "de_explainer.run(paralell=True)"
   ]
  },
  {
   "cell_type": "code",
   "execution_count": null,
   "metadata": {},
   "outputs": [
    {
     "name": "stdout",
     "output_type": "stream",
     "text": [
      "0       100\n",
      "1       100\n",
      "2       100\n",
      "3       100\n",
      "4       100\n",
      "       ... \n",
      "1995    100\n",
      "1996    100\n",
      "1997    100\n",
      "1998    100\n",
      "1999    100\n",
      "Name: auc, Length: 2000, dtype: int64\n"
     ]
    },
    {
     "name": "stderr",
     "output_type": "stream",
     "text": [
      "No data for colormapping provided via 'c'. Parameters 'vmin', 'vmax' will be ignored\n"
     ]
    },
    {
     "data": {
      "image/png": "[encoded data removed]",
      "text/plain": [
       "<Figure size 800x310 with 2 Axes>"
      ]
     },
     "metadata": {},
     "output_type": "display_data"
    }
   ],
   "source": [
    "import xgboost\n",
    "import shap\n",
    "\n",
    "df = de_explainer.df\n",
    "\n",
    "#X = df1[:,1:-1]\n",
    "subdf = df[(df['fid'] == 1) & (df['dim'] == 5)]\n",
    "X = subdf[['iid', 'seed', 'F', 'CR']]\n",
    "y = subdf['auc']\n",
    "print(y)\n",
    "\n",
    "# train xgboost model on diabetes data:\n",
    "bst = xgboost.train({\"learning_rate\": 0.01}, xgboost.DMatrix(X, label=y), 100)\n",
    "\n",
    "# explain the model's prediction using SHAP values on the first 1000 training data samples\n",
    "shap_values = shap.TreeExplainer(bst).shap_values(X)\n",
    "\n",
    "shap.summary_plot(shap_values, X)\n",
    "\n",
    "#for name in X.columns:\n",
    "#    shap.dependence_plot(name, shap_values, X)"
   ]
  }
 ],
 "metadata": {
  "kernelspec": {
   "display_name": "env",
   "language": "python",
   "name": "python3"
  },
  "language_info": {
   "codemirror_mode": {
    "name": "ipython",
    "version": 3
   },
   "file_extension": ".py",
   "mimetype": "text/x-python",
   "name": "python",
   "nbconvert_exporter": "python",
   "pygments_lexer": "ipython3",
   "version": "3.8.12"
  },
  "orig_nbformat": 4
 },
 "nbformat": 4,
 "nbformat_minor": 2
}
