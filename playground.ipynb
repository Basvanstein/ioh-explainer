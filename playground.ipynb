{
 "cells": [
  {
   "cell_type": "code",
   "execution_count": 1,
   "metadata": {},
   "outputs": [
    {
     "name": "stderr",
     "output_type": "stream",
     "text": [
      "/home/neocortex/repos/ioh-explainer/env/lib/python3.8/site-packages/numpy/core/getlimits.py:518: UserWarning: The value of the smallest subnormal for <class 'numpy.float64'> type is zero.\n",
      "  setattr(self, word, getattr(machar, word).flat[0])\n",
      "/home/neocortex/repos/ioh-explainer/env/lib/python3.8/site-packages/numpy/core/getlimits.py:89: UserWarning: The value of the smallest subnormal for <class 'numpy.float64'> type is zero.\n",
      "  return self._float_to_str(self.smallest_subnormal)\n",
      "/home/neocortex/repos/ioh-explainer/env/lib/python3.8/site-packages/numpy/core/getlimits.py:518: UserWarning: The value of the smallest subnormal for <class 'numpy.float32'> type is zero.\n",
      "  setattr(self, word, getattr(machar, word).flat[0])\n",
      "/home/neocortex/repos/ioh-explainer/env/lib/python3.8/site-packages/numpy/core/getlimits.py:89: UserWarning: The value of the smallest subnormal for <class 'numpy.float32'> type is zero.\n",
      "  return self._float_to_str(self.smallest_subnormal)\n",
      "Using `tqdm.autonotebook.tqdm` in notebook mode. Use `tqdm.tqdm` instead to force console mode (e.g. in jupyter console)\n"
     ]
    },
    {
     "ename": "AttributeError",
     "evalue": "'explainer' object has no attribute 'avg_stats'",
     "output_type": "error",
     "traceback": [
      "\u001b[0;31m---------------------------------------------------------------------------\u001b[0m",
      "\u001b[0;31mAttributeError\u001b[0m                            Traceback (most recent call last)",
      "Cell \u001b[0;32mIn[1], line 28\u001b[0m\n\u001b[1;32m     13\u001b[0m de_explainer \u001b[39m=\u001b[39m explainer(\u001b[39mNone\u001b[39;00m, \n\u001b[1;32m     14\u001b[0m                  cs , \n\u001b[1;32m     15\u001b[0m                  dims \u001b[39m=\u001b[39m [\u001b[39m5\u001b[39m,\u001b[39m10\u001b[39m,\u001b[39m40\u001b[39m],\u001b[39m#, 10, 20, 40 \u001b[39;00m\n\u001b[0;32m   (...)\u001b[0m\n\u001b[1;32m     23\u001b[0m                  seed \u001b[39m=\u001b[39m \u001b[39m1\u001b[39m,\n\u001b[1;32m     24\u001b[0m                  verbose \u001b[39m=\u001b[39m \u001b[39mTrue\u001b[39;00m)\n\u001b[1;32m     27\u001b[0m de_explainer\u001b[39m.\u001b[39mload_results(\u001b[39m\"\u001b[39m\u001b[39mdf.pkl\u001b[39m\u001b[39m\"\u001b[39m)\n\u001b[0;32m---> 28\u001b[0m df \u001b[39m=\u001b[39m de_explainer\u001b[39m.\u001b[39;49mavg_stats()\n\u001b[1;32m     29\u001b[0m \u001b[39mprint\u001b[39m(df)\n\u001b[1;32m     30\u001b[0m \u001b[39m#print(de_explainer.stats[5])\u001b[39;00m\n\u001b[1;32m     31\u001b[0m \u001b[39m#df = de_explainer.stats[5]\u001b[39;00m\n",
      "\u001b[0;31mAttributeError\u001b[0m: 'explainer' object has no attribute 'avg_stats'"
     ]
    }
   ],
   "source": [
    "from ioh_xplainer import explainer\n",
    "import pandas as pd\n",
    "\n",
    "from ConfigSpace import ConfigurationSpace\n",
    "from ConfigSpace.util import generate_grid\n",
    "\n",
    "cs = ConfigurationSpace({\n",
    "    \"F\": (0.05, 2.0),              # Uniform float\n",
    "    \"CR\" : (0.05, 2.0),                    # Uniform float\n",
    "})\n",
    "\n",
    "\n",
    "de_explainer = explainer(None, \n",
    "                 cs , \n",
    "                 dims = [5,10,40],#, 10, 20, 40 \n",
    "                 fids = [1,5,7,13,18,20,23], #,5\n",
    "                 iids = 10, #20 \n",
    "                 reps = 5, \n",
    "                 sampling_method = \"grid\",  #or random\n",
    "                 grid_steps_dict = {},\n",
    "                 sample_size = None,  #only used with random method\n",
    "                 budget = 10000, #10000\n",
    "                 seed = 1,\n",
    "                 verbose = True)\n",
    "\n",
    "\n",
    "de_explainer.load_results(\"df.pkl\")\n",
    "df = de_explainer.performance_stats()\n",
    "print(df)\n",
    "#print(de_explainer.stats[5])\n",
    "#df = de_explainer.stats[5]\n",
    "print(df.to_latex(index=False,\n",
    "                  float_format=\"{:.2f}\".format,\n",
    "                  multicolumn_format = \"c\"\n",
    "))  "
   ]
  }
 ],
 "metadata": {
  "kernelspec": {
   "display_name": "env",
   "language": "python",
   "name": "python3"
  },
  "language_info": {
   "codemirror_mode": {
    "name": "ipython",
    "version": 3
   },
   "file_extension": ".py",
   "mimetype": "text/x-python",
   "name": "python",
   "nbconvert_exporter": "python",
   "pygments_lexer": "ipython3",
   "version": "3.8.12"
  },
  "orig_nbformat": 4
 },
 "nbformat": 4,
 "nbformat_minor": 2
}
