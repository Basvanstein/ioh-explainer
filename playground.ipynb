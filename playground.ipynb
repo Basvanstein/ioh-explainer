{
 "cells": [
  {
   "cell_type": "code",
   "execution_count": 1,
   "metadata": {},
   "outputs": [
    {
     "name": "stderr",
     "output_type": "stream",
     "text": [
      "/home/neocortex/repos/ioh-explainer/env/lib/python3.8/site-packages/numpy/core/getlimits.py:518: UserWarning: The value of the smallest subnormal for <class 'numpy.float64'> type is zero.\n",
      "  setattr(self, word, getattr(machar, word).flat[0])\n",
      "/home/neocortex/repos/ioh-explainer/env/lib/python3.8/site-packages/numpy/core/getlimits.py:89: UserWarning: The value of the smallest subnormal for <class 'numpy.float64'> type is zero.\n",
      "  return self._float_to_str(self.smallest_subnormal)\n",
      "/home/neocortex/repos/ioh-explainer/env/lib/python3.8/site-packages/numpy/core/getlimits.py:518: UserWarning: The value of the smallest subnormal for <class 'numpy.float32'> type is zero.\n",
      "  setattr(self, word, getattr(machar, word).flat[0])\n",
      "/home/neocortex/repos/ioh-explainer/env/lib/python3.8/site-packages/numpy/core/getlimits.py:89: UserWarning: The value of the smallest subnormal for <class 'numpy.float32'> type is zero.\n",
      "  return self._float_to_str(self.smallest_subnormal)\n",
      "Using `tqdm.autonotebook.tqdm` in notebook mode. Use `tqdm.tqdm` instead to force console mode (e.g. in jupyter console)\n"
     ]
    },
    {
     "name": "stdout",
     "output_type": "stream",
     "text": [
      "             d=5                                                       d=10  \\\n",
      "        Function  single-best     avg-best               avg       Function   \n",
      "0         Sphere  0.00 (0.00)  0.00 (0.00)       0.39 (2.47)         Sphere   \n",
      "1    LinearSlope  0.00 (0.00)  0.00 (0.00)      2.32 (52.35)    LinearSlope   \n",
      "2  StepEllipsoid  0.00 (0.00)  0.00 (0.00)       0.71 (6.31)  StepEllipsoid   \n",
      "3     SharpRidge  0.00 (0.00)  0.01 (0.00)   25.87 (5550.76)     SharpRidge   \n",
      "4  Schaffers1000  0.00 (0.00)  0.00 (0.00)      1.65 (13.01)  Schaffers1000   \n",
      "5       Schwefel  0.00 (0.00)  0.00 (0.00)  17.29 (13529.51)       Schwefel   \n",
      "6       Katsuura  0.60 (0.02)  0.68 (0.05)       1.30 (0.29)       Katsuura   \n",
      "\n",
      "                                                           d=40               \\\n",
      "   single-best     avg-best                  avg       Function  single-best   \n",
      "0  0.00 (0.00)  0.00 (0.00)         2.27 (38.01)         Sphere  0.00 (0.00)   \n",
      "1  0.00 (0.00)  0.00 (0.00)        7.76 (462.39)    LinearSlope  0.00 (0.00)   \n",
      "2  0.00 (0.00)  0.00 (0.00)        7.34 (378.96)  StepEllipsoid  0.05 (0.01)   \n",
      "3  0.00 (0.00)  0.00 (0.00)    105.71 (35255.80)     SharpRidge  0.14 (0.01)   \n",
      "4  0.00 (0.00)  0.00 (0.00)         4.12 (26.15)  Schaffers1000  0.01 (0.00)   \n",
      "5  0.00 (0.00)  0.05 (0.01)  541.43 (2924305.42)       Schwefel  0.03 (0.00)   \n",
      "6  0.88 (0.03)  1.08 (0.07)          1.42 (0.15)       Katsuura  2.24 (0.05)   \n",
      "\n",
      "                                          \n",
      "      avg-best                       avg  \n",
      "0  0.00 (0.00)           62.51 (5004.43)  \n",
      "1  0.03 (0.00)          57.38 (17013.87)  \n",
      "2  0.05 (0.01)         309.56 (75000.14)  \n",
      "3  0.28 (0.13)       1155.72 (776013.58)  \n",
      "4  0.08 (0.00)            20.68 (181.99)  \n",
      "5  2.83 (0.01)  31283.92 (1880165238.41)  \n",
      "6  2.92 (0.19)               3.00 (0.11)  \n",
      "\\begin{tabular}{llllllllllll}\n",
      "\\toprule\n",
      "\\multicolumn{4}{r}{d=5} & \\multicolumn{4}{r}{d=10} & \\multicolumn{4}{r}{d=40} \\\\\n",
      "Function & single-best & avg-best & avg & Function & single-best & avg-best & avg & Function & single-best & avg-best & avg \\\\\n",
      "\\midrule\n",
      "Sphere & 0.00 (0.00) & 0.00 (0.00) & 0.39 (2.47) & Sphere & 0.00 (0.00) & 0.00 (0.00) & 2.27 (38.01) & Sphere & 0.00 (0.00) & 0.00 (0.00) & 62.51 (5004.43) \\\\\n",
      "LinearSlope & 0.00 (0.00) & 0.00 (0.00) & 2.32 (52.35) & LinearSlope & 0.00 (0.00) & 0.00 (0.00) & 7.76 (462.39) & LinearSlope & 0.00 (0.00) & 0.03 (0.00) & 57.38 (17013.87) \\\\\n",
      "StepEllipsoid & 0.00 (0.00) & 0.00 (0.00) & 0.71 (6.31) & StepEllipsoid & 0.00 (0.00) & 0.00 (0.00) & 7.34 (378.96) & StepEllipsoid & 0.05 (0.01) & 0.05 (0.01) & 309.56 (75000.14) \\\\\n",
      "SharpRidge & 0.00 (0.00) & 0.01 (0.00) & 25.87 (5550.76) & SharpRidge & 0.00 (0.00) & 0.00 (0.00) & 105.71 (35255.80) & SharpRidge & 0.14 (0.01) & 0.28 (0.13) & 1155.72 (776013.58) \\\\\n",
      "Schaffers1000 & 0.00 (0.00) & 0.00 (0.00) & 1.65 (13.01) & Schaffers1000 & 0.00 (0.00) & 0.00 (0.00) & 4.12 (26.15) & Schaffers1000 & 0.01 (0.00) & 0.08 (0.00) & 20.68 (181.99) \\\\\n",
      "Schwefel & 0.00 (0.00) & 0.00 (0.00) & 17.29 (13529.51) & Schwefel & 0.00 (0.00) & 0.05 (0.01) & 541.43 (2924305.42) & Schwefel & 0.03 (0.00) & 2.83 (0.01) & 31283.92 (1880165238.41) \\\\\n",
      "Katsuura & 0.60 (0.02) & 0.68 (0.05) & 1.30 (0.29) & Katsuura & 0.88 (0.03) & 1.08 (0.07) & 1.42 (0.15) & Katsuura & 2.24 (0.05) & 2.92 (0.19) & 3.00 (0.11) \\\\\n",
      "\\bottomrule\n",
      "\\end{tabular}\n",
      "\n"
     ]
    }
   ],
   "source": [
    "from ioh_xplainer import explainer\n",
    "import pandas as pd\n",
    "\n",
    "from ConfigSpace import ConfigurationSpace\n",
    "from ConfigSpace.util import generate_grid\n",
    "\n",
    "cs = ConfigurationSpace({\n",
    "    \"F\": (0.05, 2.0),              # Uniform float\n",
    "    \"CR\" : (0.05, 2.0),                    # Uniform float\n",
    "})\n",
    "\n",
    "\n",
    "de_explainer = explainer(None, \n",
    "                 cs , \n",
    "                 dims = [5,10,40],#, 10, 20, 40 \n",
    "                 fids = [1,5,7,13,18,20,23], #,5\n",
    "                 iids = 10, #20 \n",
    "                 reps = 5, \n",
    "                 sampling_method = \"grid\",  #or random\n",
    "                 grid_steps_dict = {},\n",
    "                 sample_size = None,  #only used with random method\n",
    "                 budget = 10000, #10000\n",
    "                 seed = 1,\n",
    "                 verbose = True)\n",
    "\n",
    "\n",
    "de_explainer.load_results(\"df.pkl\")\n",
    "df = de_explainer.avg_stats()\n",
    "print(df)\n",
    "#print(de_explainer.stats[5])\n",
    "#df = de_explainer.stats[5]\n",
    "print(df.to_latex(index=False,\n",
    "                  formatters={\"Function\": str.upper},\n",
    "                  float_format=\"{:.2f}\".format,\n",
    "                  multicolumn_format = \"c\"\n",
    "))  "
   ]
  }
 ],
 "metadata": {
  "kernelspec": {
   "display_name": "env",
   "language": "python",
   "name": "python3"
  },
  "language_info": {
   "codemirror_mode": {
    "name": "ipython",
    "version": 3
   },
   "file_extension": ".py",
   "mimetype": "text/x-python",
   "name": "python",
   "nbconvert_exporter": "python",
   "pygments_lexer": "ipython3",
   "version": "3.8.12"
  },
  "orig_nbformat": 4
 },
 "nbformat": 4,
 "nbformat_minor": 2
}
